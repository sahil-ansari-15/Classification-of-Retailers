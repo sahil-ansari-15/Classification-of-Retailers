{
 "cells": [
  {
   "cell_type": "markdown",
   "metadata": {},
   "source": [
    "# Problem Statement : Classification of Retailers"
   ]
  },
  {
   "cell_type": "markdown",
   "metadata": {},
   "source": [
    "**Background:** Case study is sales data for Feb’17 of one area. \n",
    "\n",
    "**Details :** \n",
    "* Retailer Name : There are total 9938 unique retailers in this area\n",
    "* Brands : Total 12 different brands can be sold to retailer \n",
    "* Total Sales : This is sum total of sales of all brands \n",
    "* Number of Brands : Total number of unique brands purchased by retailers\n",
    "* Values are in Rupees for Brands Sales and Total Sales\n",
    "\n",
    "**Tip:** Retailers can be classified as Category A, B & C. Category A retailers are one who place regular orders and Category C are one who place irregular orders."
   ]
  },
  {
   "attachments": {},
   "cell_type": "markdown",
   "metadata": {},
   "source": [
    "**Question:**\n",
    "How will you classify retailers using sales data of Feb’17. : Please name analytics techniques which can used for classification?<br>\n",
    "**Answer:**\n",
    "* As training dataset is not provided, we can not use Supervised learning (Classification algorithms). So only Unsupervised learning (Clustering algorithms) can be used for segmentation.<br>\n",
    "*     *K-Means Clustering* algorithm will be suitable for classification/segmentation of Retailers as we already know that classification has to be done into 3 Categories(A, B & C).<br><br>\n",
    "\n",
    "**Question:**\n",
    "What all variables/data will you use for classification of retailers?<br>\n",
    "**Answer:**\n",
    "* Columns/variables 'Brand1', 'Brand2', 'Brand3', 'Brand4', 'Brand5', 'Brand6', 'Brand7', 'Brand8', 'Brand9', 'Brand10', 'Brand11' & 'Brand12' will you use for classification of retailers.\n",
    "* 'Total Sales' & 'Number of Brands' are derived columns/variables, means we can find these columns from ['Brand1',.......,'Brand12']. Therefore these columns will not be use for classification."
   ]
  },
  {
   "cell_type": "code",
   "execution_count": 1,
   "metadata": {},
   "outputs": [],
   "source": [
    "# Importing required libraries.\n",
    "\n",
    "import pandas as pd\n",
    "import numpy as np\n",
    "import matplotlib.pyplot as plt\n",
    "%matplotlib inline\n",
    "import seaborn as sns\n",
    "pd.set_option('display.max_columns',None)\n",
    "sns.set_style('whitegrid')"
   ]
  },
  {
   "cell_type": "code",
   "execution_count": 2,
   "metadata": {},
   "outputs": [],
   "source": [
    "# Importing provided data into pandas dataframe.\n",
    "\n",
    "df = pd.read_excel(r\"C:\\Users\\kakadiya\\Downloads\\Case_Information_and_Problem_Statement\\Case Study Data 1.xlsx\")"
   ]
  },
  {
   "cell_type": "code",
   "execution_count": 3,
   "metadata": {},
   "outputs": [
    {
     "data": {
      "text/html": [
       "<div>\n",
       "<style scoped>\n",
       "    .dataframe tbody tr th:only-of-type {\n",
       "        vertical-align: middle;\n",
       "    }\n",
       "\n",
       "    .dataframe tbody tr th {\n",
       "        vertical-align: top;\n",
       "    }\n",
       "\n",
       "    .dataframe thead th {\n",
       "        text-align: right;\n",
       "    }\n",
       "</style>\n",
       "<table border=\"1\" class=\"dataframe\">\n",
       "  <thead>\n",
       "    <tr style=\"text-align: right;\">\n",
       "      <th></th>\n",
       "      <th>Retailer Name</th>\n",
       "      <th>Brand1</th>\n",
       "      <th>Brand2</th>\n",
       "      <th>Brand3</th>\n",
       "      <th>Brand4</th>\n",
       "      <th>Brand5</th>\n",
       "      <th>Brand6</th>\n",
       "      <th>Brand7</th>\n",
       "      <th>Brand8</th>\n",
       "      <th>Brand9</th>\n",
       "      <th>Brand10</th>\n",
       "      <th>Brand11</th>\n",
       "      <th>Brand12</th>\n",
       "      <th>Total Sales</th>\n",
       "      <th>Number of Brands</th>\n",
       "      <th>Category of Retailer</th>\n",
       "    </tr>\n",
       "  </thead>\n",
       "  <tbody>\n",
       "    <tr>\n",
       "      <th>0</th>\n",
       "      <td>Retailer 1</td>\n",
       "      <td>0.0000</td>\n",
       "      <td>0.0</td>\n",
       "      <td>0.0</td>\n",
       "      <td>0.000</td>\n",
       "      <td>0.0000</td>\n",
       "      <td>0.0</td>\n",
       "      <td>0.0</td>\n",
       "      <td>0.0</td>\n",
       "      <td>0.000</td>\n",
       "      <td>30826.61</td>\n",
       "      <td>0.0</td>\n",
       "      <td>0.0</td>\n",
       "      <td>30826.6100</td>\n",
       "      <td>1</td>\n",
       "      <td>NaN</td>\n",
       "    </tr>\n",
       "    <tr>\n",
       "      <th>1</th>\n",
       "      <td>Retailer 2</td>\n",
       "      <td>9833.1060</td>\n",
       "      <td>0.0</td>\n",
       "      <td>0.0</td>\n",
       "      <td>24073.632</td>\n",
       "      <td>33806.4312</td>\n",
       "      <td>0.0</td>\n",
       "      <td>0.0</td>\n",
       "      <td>0.0</td>\n",
       "      <td>0.000</td>\n",
       "      <td>0.00</td>\n",
       "      <td>0.0</td>\n",
       "      <td>0.0</td>\n",
       "      <td>67713.1692</td>\n",
       "      <td>3</td>\n",
       "      <td>NaN</td>\n",
       "    </tr>\n",
       "    <tr>\n",
       "      <th>2</th>\n",
       "      <td>Retailer 3</td>\n",
       "      <td>24690.6708</td>\n",
       "      <td>0.0</td>\n",
       "      <td>0.0</td>\n",
       "      <td>0.000</td>\n",
       "      <td>27367.0386</td>\n",
       "      <td>0.0</td>\n",
       "      <td>0.0</td>\n",
       "      <td>0.0</td>\n",
       "      <td>12948.696</td>\n",
       "      <td>0.00</td>\n",
       "      <td>0.0</td>\n",
       "      <td>0.0</td>\n",
       "      <td>65006.4054</td>\n",
       "      <td>3</td>\n",
       "      <td>NaN</td>\n",
       "    </tr>\n",
       "    <tr>\n",
       "      <th>3</th>\n",
       "      <td>Retailer 4</td>\n",
       "      <td>0.0000</td>\n",
       "      <td>0.0</td>\n",
       "      <td>0.0</td>\n",
       "      <td>0.000</td>\n",
       "      <td>0.0000</td>\n",
       "      <td>0.0</td>\n",
       "      <td>0.0</td>\n",
       "      <td>0.0</td>\n",
       "      <td>0.000</td>\n",
       "      <td>0.00</td>\n",
       "      <td>0.0</td>\n",
       "      <td>0.0</td>\n",
       "      <td>0.0000</td>\n",
       "      <td>0</td>\n",
       "      <td>NaN</td>\n",
       "    </tr>\n",
       "    <tr>\n",
       "      <th>4</th>\n",
       "      <td>Retailer 5</td>\n",
       "      <td>0.0000</td>\n",
       "      <td>0.0</td>\n",
       "      <td>0.0</td>\n",
       "      <td>0.000</td>\n",
       "      <td>0.0000</td>\n",
       "      <td>0.0</td>\n",
       "      <td>0.0</td>\n",
       "      <td>0.0</td>\n",
       "      <td>0.000</td>\n",
       "      <td>0.00</td>\n",
       "      <td>0.0</td>\n",
       "      <td>0.0</td>\n",
       "      <td>0.0000</td>\n",
       "      <td>0</td>\n",
       "      <td>NaN</td>\n",
       "    </tr>\n",
       "  </tbody>\n",
       "</table>\n",
       "</div>"
      ],
      "text/plain": [
       "  Retailer Name      Brand1  Brand2  Brand3     Brand4      Brand5  Brand6  \\\n",
       "0    Retailer 1      0.0000     0.0     0.0      0.000      0.0000     0.0   \n",
       "1    Retailer 2   9833.1060     0.0     0.0  24073.632  33806.4312     0.0   \n",
       "2    Retailer 3  24690.6708     0.0     0.0      0.000  27367.0386     0.0   \n",
       "3    Retailer 4      0.0000     0.0     0.0      0.000      0.0000     0.0   \n",
       "4    Retailer 5      0.0000     0.0     0.0      0.000      0.0000     0.0   \n",
       "\n",
       "   Brand7  Brand8     Brand9   Brand10  Brand11  Brand12  Total Sales  \\\n",
       "0     0.0     0.0      0.000  30826.61      0.0      0.0   30826.6100   \n",
       "1     0.0     0.0      0.000      0.00      0.0      0.0   67713.1692   \n",
       "2     0.0     0.0  12948.696      0.00      0.0      0.0   65006.4054   \n",
       "3     0.0     0.0      0.000      0.00      0.0      0.0       0.0000   \n",
       "4     0.0     0.0      0.000      0.00      0.0      0.0       0.0000   \n",
       "\n",
       "   Number of Brands  Category of Retailer  \n",
       "0                 1                   NaN  \n",
       "1                 3                   NaN  \n",
       "2                 3                   NaN  \n",
       "3                 0                   NaN  \n",
       "4                 0                   NaN  "
      ]
     },
     "execution_count": 3,
     "metadata": {},
     "output_type": "execute_result"
    }
   ],
   "source": [
    "df.head()"
   ]
  },
  {
   "cell_type": "code",
   "execution_count": 4,
   "metadata": {},
   "outputs": [
    {
     "name": "stdout",
     "output_type": "stream",
     "text": [
      "<class 'pandas.core.frame.DataFrame'>\n",
      "RangeIndex: 9938 entries, 0 to 9937\n",
      "Data columns (total 16 columns):\n",
      " #   Column                Non-Null Count  Dtype  \n",
      "---  ------                --------------  -----  \n",
      " 0   Retailer Name         9938 non-null   object \n",
      " 1   Brand1                9938 non-null   float64\n",
      " 2   Brand2                9938 non-null   float64\n",
      " 3   Brand3                9938 non-null   float64\n",
      " 4   Brand4                9938 non-null   float64\n",
      " 5   Brand5                9938 non-null   float64\n",
      " 6   Brand6                9938 non-null   float64\n",
      " 7   Brand7                9938 non-null   float64\n",
      " 8   Brand8                9938 non-null   float64\n",
      " 9   Brand9                9938 non-null   float64\n",
      " 10  Brand10               9938 non-null   float64\n",
      " 11  Brand11               9938 non-null   float64\n",
      " 12  Brand12               9938 non-null   float64\n",
      " 13  Total Sales           9938 non-null   float64\n",
      " 14  Number of Brands      9938 non-null   int64  \n",
      " 15  Category of Retailer  0 non-null      float64\n",
      "dtypes: float64(14), int64(1), object(1)\n",
      "memory usage: 1.2+ MB\n"
     ]
    }
   ],
   "source": [
    "df.info()"
   ]
  },
  {
   "cell_type": "code",
   "execution_count": 5,
   "metadata": {},
   "outputs": [
    {
     "data": {
      "text/plain": [
       "count    9.938000e+03\n",
       "mean     1.551269e+04\n",
       "std      8.245152e+04\n",
       "min      0.000000e+00\n",
       "25%      0.000000e+00\n",
       "50%      0.000000e+00\n",
       "75%      1.830092e+04\n",
       "max      7.618235e+06\n",
       "Name: Total Sales, dtype: float64"
      ]
     },
     "execution_count": 5,
     "metadata": {},
     "output_type": "execute_result"
    }
   ],
   "source": [
    "df['Total Sales'].describe()"
   ]
  },
  {
   "cell_type": "markdown",
   "metadata": {},
   "source": [
    "# K-Means Clustering"
   ]
  },
  {
   "cell_type": "code",
   "execution_count": 6,
   "metadata": {},
   "outputs": [],
   "source": [
    "from sklearn.cluster import KMeans"
   ]
  },
  {
   "cell_type": "code",
   "execution_count": 7,
   "metadata": {},
   "outputs": [
    {
     "data": {
      "text/html": [
       "<div>\n",
       "<style scoped>\n",
       "    .dataframe tbody tr th:only-of-type {\n",
       "        vertical-align: middle;\n",
       "    }\n",
       "\n",
       "    .dataframe tbody tr th {\n",
       "        vertical-align: top;\n",
       "    }\n",
       "\n",
       "    .dataframe thead th {\n",
       "        text-align: right;\n",
       "    }\n",
       "</style>\n",
       "<table border=\"1\" class=\"dataframe\">\n",
       "  <thead>\n",
       "    <tr style=\"text-align: right;\">\n",
       "      <th></th>\n",
       "      <th>Brand1</th>\n",
       "      <th>Brand2</th>\n",
       "      <th>Brand3</th>\n",
       "      <th>Brand4</th>\n",
       "      <th>Brand5</th>\n",
       "      <th>Brand6</th>\n",
       "      <th>Brand7</th>\n",
       "      <th>Brand8</th>\n",
       "      <th>Brand9</th>\n",
       "      <th>Brand10</th>\n",
       "      <th>Brand11</th>\n",
       "      <th>Brand12</th>\n",
       "    </tr>\n",
       "  </thead>\n",
       "  <tbody>\n",
       "    <tr>\n",
       "      <th>0</th>\n",
       "      <td>0.0000</td>\n",
       "      <td>0.0</td>\n",
       "      <td>0.0</td>\n",
       "      <td>0.000</td>\n",
       "      <td>0.0000</td>\n",
       "      <td>0.0</td>\n",
       "      <td>0.0</td>\n",
       "      <td>0.0</td>\n",
       "      <td>0.000</td>\n",
       "      <td>30826.61</td>\n",
       "      <td>0.0</td>\n",
       "      <td>0.0</td>\n",
       "    </tr>\n",
       "    <tr>\n",
       "      <th>1</th>\n",
       "      <td>9833.1060</td>\n",
       "      <td>0.0</td>\n",
       "      <td>0.0</td>\n",
       "      <td>24073.632</td>\n",
       "      <td>33806.4312</td>\n",
       "      <td>0.0</td>\n",
       "      <td>0.0</td>\n",
       "      <td>0.0</td>\n",
       "      <td>0.000</td>\n",
       "      <td>0.00</td>\n",
       "      <td>0.0</td>\n",
       "      <td>0.0</td>\n",
       "    </tr>\n",
       "    <tr>\n",
       "      <th>2</th>\n",
       "      <td>24690.6708</td>\n",
       "      <td>0.0</td>\n",
       "      <td>0.0</td>\n",
       "      <td>0.000</td>\n",
       "      <td>27367.0386</td>\n",
       "      <td>0.0</td>\n",
       "      <td>0.0</td>\n",
       "      <td>0.0</td>\n",
       "      <td>12948.696</td>\n",
       "      <td>0.00</td>\n",
       "      <td>0.0</td>\n",
       "      <td>0.0</td>\n",
       "    </tr>\n",
       "    <tr>\n",
       "      <th>3</th>\n",
       "      <td>0.0000</td>\n",
       "      <td>0.0</td>\n",
       "      <td>0.0</td>\n",
       "      <td>0.000</td>\n",
       "      <td>0.0000</td>\n",
       "      <td>0.0</td>\n",
       "      <td>0.0</td>\n",
       "      <td>0.0</td>\n",
       "      <td>0.000</td>\n",
       "      <td>0.00</td>\n",
       "      <td>0.0</td>\n",
       "      <td>0.0</td>\n",
       "    </tr>\n",
       "    <tr>\n",
       "      <th>4</th>\n",
       "      <td>0.0000</td>\n",
       "      <td>0.0</td>\n",
       "      <td>0.0</td>\n",
       "      <td>0.000</td>\n",
       "      <td>0.0000</td>\n",
       "      <td>0.0</td>\n",
       "      <td>0.0</td>\n",
       "      <td>0.0</td>\n",
       "      <td>0.000</td>\n",
       "      <td>0.00</td>\n",
       "      <td>0.0</td>\n",
       "      <td>0.0</td>\n",
       "    </tr>\n",
       "  </tbody>\n",
       "</table>\n",
       "</div>"
      ],
      "text/plain": [
       "       Brand1  Brand2  Brand3     Brand4      Brand5  Brand6  Brand7  Brand8  \\\n",
       "0      0.0000     0.0     0.0      0.000      0.0000     0.0     0.0     0.0   \n",
       "1   9833.1060     0.0     0.0  24073.632  33806.4312     0.0     0.0     0.0   \n",
       "2  24690.6708     0.0     0.0      0.000  27367.0386     0.0     0.0     0.0   \n",
       "3      0.0000     0.0     0.0      0.000      0.0000     0.0     0.0     0.0   \n",
       "4      0.0000     0.0     0.0      0.000      0.0000     0.0     0.0     0.0   \n",
       "\n",
       "      Brand9   Brand10  Brand11  Brand12  \n",
       "0      0.000  30826.61      0.0      0.0  \n",
       "1      0.000      0.00      0.0      0.0  \n",
       "2  12948.696      0.00      0.0      0.0  \n",
       "3      0.000      0.00      0.0      0.0  \n",
       "4      0.000      0.00      0.0      0.0  "
      ]
     },
     "execution_count": 7,
     "metadata": {},
     "output_type": "execute_result"
    }
   ],
   "source": [
    "clustering_data = df.iloc[:, 1:-3]\n",
    "clustering_data.head()"
   ]
  },
  {
   "cell_type": "code",
   "execution_count": 8,
   "metadata": {},
   "outputs": [
    {
     "data": {
      "text/plain": [
       "array([[-0.22647301, -0.07110222, -0.01003165, -0.17289003, -0.09409677,\n",
       "        -0.16320717, -0.03848998, -0.18500219, -0.16858582,  4.80172818,\n",
       "        -0.19920617, -0.08717942],\n",
       "       [ 1.14230678, -0.07110222, -0.01003165,  1.38672971,  1.00567726,\n",
       "        -0.16320717, -0.03848998, -0.18500219, -0.16858582, -0.26526088,\n",
       "        -0.19920617, -0.08717942]])"
      ]
     },
     "execution_count": 8,
     "metadata": {},
     "output_type": "execute_result"
    }
   ],
   "source": [
    "from sklearn.preprocessing import StandardScaler\n",
    "\n",
    "clustering_data = StandardScaler().fit_transform(clustering_data)\n",
    "clustering_data[0:2]"
   ]
  },
  {
   "cell_type": "code",
   "execution_count": 9,
   "metadata": {},
   "outputs": [
    {
     "data": {
      "text/plain": [
       "array([2, 0, 0, ..., 0, 0, 0])"
      ]
     },
     "execution_count": 9,
     "metadata": {},
     "output_type": "execute_result"
    }
   ],
   "source": [
    "kclusters = 3\n",
    "kmeanModel = KMeans(init=\"k-means++\", n_clusters=kclusters, random_state=0)\n",
    "kmeanModel.fit(clustering_data)\n",
    "cluster_labels = kmeanModel.labels_      \n",
    "cluster_labels                   # check cluster labels generated for each Retailer"
   ]
  },
  {
   "cell_type": "code",
   "execution_count": 10,
   "metadata": {
    "scrolled": true
   },
   "outputs": [
    {
     "data": {
      "text/html": [
       "<div>\n",
       "<style scoped>\n",
       "    .dataframe tbody tr th:only-of-type {\n",
       "        vertical-align: middle;\n",
       "    }\n",
       "\n",
       "    .dataframe tbody tr th {\n",
       "        vertical-align: top;\n",
       "    }\n",
       "\n",
       "    .dataframe thead th {\n",
       "        text-align: right;\n",
       "    }\n",
       "</style>\n",
       "<table border=\"1\" class=\"dataframe\">\n",
       "  <thead>\n",
       "    <tr style=\"text-align: right;\">\n",
       "      <th></th>\n",
       "      <th>Retailer Name</th>\n",
       "      <th>Brand1</th>\n",
       "      <th>Brand2</th>\n",
       "      <th>Brand3</th>\n",
       "      <th>Brand4</th>\n",
       "      <th>Brand5</th>\n",
       "      <th>Brand6</th>\n",
       "      <th>Brand7</th>\n",
       "      <th>Brand8</th>\n",
       "      <th>Brand9</th>\n",
       "      <th>Brand10</th>\n",
       "      <th>Brand11</th>\n",
       "      <th>Brand12</th>\n",
       "      <th>Total Sales</th>\n",
       "      <th>Number of Brands</th>\n",
       "      <th>Category of Retailer</th>\n",
       "    </tr>\n",
       "  </thead>\n",
       "  <tbody>\n",
       "    <tr>\n",
       "      <th>0</th>\n",
       "      <td>Retailer 1</td>\n",
       "      <td>0.0000</td>\n",
       "      <td>0.0</td>\n",
       "      <td>0.0</td>\n",
       "      <td>0.000</td>\n",
       "      <td>0.0000</td>\n",
       "      <td>0.0</td>\n",
       "      <td>0.0</td>\n",
       "      <td>0.0</td>\n",
       "      <td>0.000</td>\n",
       "      <td>30826.61</td>\n",
       "      <td>0.0</td>\n",
       "      <td>0.0</td>\n",
       "      <td>30826.6100</td>\n",
       "      <td>1</td>\n",
       "      <td>B</td>\n",
       "    </tr>\n",
       "    <tr>\n",
       "      <th>1</th>\n",
       "      <td>Retailer 2</td>\n",
       "      <td>9833.1060</td>\n",
       "      <td>0.0</td>\n",
       "      <td>0.0</td>\n",
       "      <td>24073.632</td>\n",
       "      <td>33806.4312</td>\n",
       "      <td>0.0</td>\n",
       "      <td>0.0</td>\n",
       "      <td>0.0</td>\n",
       "      <td>0.000</td>\n",
       "      <td>0.00</td>\n",
       "      <td>0.0</td>\n",
       "      <td>0.0</td>\n",
       "      <td>67713.1692</td>\n",
       "      <td>3</td>\n",
       "      <td>C</td>\n",
       "    </tr>\n",
       "    <tr>\n",
       "      <th>2</th>\n",
       "      <td>Retailer 3</td>\n",
       "      <td>24690.6708</td>\n",
       "      <td>0.0</td>\n",
       "      <td>0.0</td>\n",
       "      <td>0.000</td>\n",
       "      <td>27367.0386</td>\n",
       "      <td>0.0</td>\n",
       "      <td>0.0</td>\n",
       "      <td>0.0</td>\n",
       "      <td>12948.696</td>\n",
       "      <td>0.00</td>\n",
       "      <td>0.0</td>\n",
       "      <td>0.0</td>\n",
       "      <td>65006.4054</td>\n",
       "      <td>3</td>\n",
       "      <td>C</td>\n",
       "    </tr>\n",
       "    <tr>\n",
       "      <th>3</th>\n",
       "      <td>Retailer 4</td>\n",
       "      <td>0.0000</td>\n",
       "      <td>0.0</td>\n",
       "      <td>0.0</td>\n",
       "      <td>0.000</td>\n",
       "      <td>0.0000</td>\n",
       "      <td>0.0</td>\n",
       "      <td>0.0</td>\n",
       "      <td>0.0</td>\n",
       "      <td>0.000</td>\n",
       "      <td>0.00</td>\n",
       "      <td>0.0</td>\n",
       "      <td>0.0</td>\n",
       "      <td>0.0000</td>\n",
       "      <td>0</td>\n",
       "      <td>C</td>\n",
       "    </tr>\n",
       "    <tr>\n",
       "      <th>4</th>\n",
       "      <td>Retailer 5</td>\n",
       "      <td>0.0000</td>\n",
       "      <td>0.0</td>\n",
       "      <td>0.0</td>\n",
       "      <td>0.000</td>\n",
       "      <td>0.0000</td>\n",
       "      <td>0.0</td>\n",
       "      <td>0.0</td>\n",
       "      <td>0.0</td>\n",
       "      <td>0.000</td>\n",
       "      <td>0.00</td>\n",
       "      <td>0.0</td>\n",
       "      <td>0.0</td>\n",
       "      <td>0.0000</td>\n",
       "      <td>0</td>\n",
       "      <td>C</td>\n",
       "    </tr>\n",
       "  </tbody>\n",
       "</table>\n",
       "</div>"
      ],
      "text/plain": [
       "  Retailer Name      Brand1  Brand2  Brand3     Brand4      Brand5  Brand6  \\\n",
       "0    Retailer 1      0.0000     0.0     0.0      0.000      0.0000     0.0   \n",
       "1    Retailer 2   9833.1060     0.0     0.0  24073.632  33806.4312     0.0   \n",
       "2    Retailer 3  24690.6708     0.0     0.0      0.000  27367.0386     0.0   \n",
       "3    Retailer 4      0.0000     0.0     0.0      0.000      0.0000     0.0   \n",
       "4    Retailer 5      0.0000     0.0     0.0      0.000      0.0000     0.0   \n",
       "\n",
       "   Brand7  Brand8     Brand9   Brand10  Brand11  Brand12  Total Sales  \\\n",
       "0     0.0     0.0      0.000  30826.61      0.0      0.0   30826.6100   \n",
       "1     0.0     0.0      0.000      0.00      0.0      0.0   67713.1692   \n",
       "2     0.0     0.0  12948.696      0.00      0.0      0.0   65006.4054   \n",
       "3     0.0     0.0      0.000      0.00      0.0      0.0       0.0000   \n",
       "4     0.0     0.0      0.000      0.00      0.0      0.0       0.0000   \n",
       "\n",
       "   Number of Brands Category of Retailer  \n",
       "0                 1                    B  \n",
       "1                 3                    C  \n",
       "2                 3                    C  \n",
       "3                 0                    C  \n",
       "4                 0                    C  "
      ]
     },
     "execution_count": 10,
     "metadata": {},
     "output_type": "execute_result"
    }
   ],
   "source": [
    "df['Category of Retailer'] = cluster_labels\n",
    "df['Category of Retailer'].replace({0 : 'C', 1 : 'A', 2 : 'B'}, inplace = True)\n",
    "df.head()"
   ]
  },
  {
   "cell_type": "markdown",
   "metadata": {},
   "source": [
    "#### Saving the Prediction as a excel file."
   ]
  },
  {
   "cell_type": "code",
   "execution_count": 11,
   "metadata": {},
   "outputs": [],
   "source": [
    "df.to_excel(r'C:\\Users\\kakadiya\\Downloads\\Case_Information_and_Problem_Statement\\Prediction-Solution.xlsx',\n",
    "                    index = False)"
   ]
  },
  {
   "cell_type": "code",
   "execution_count": 12,
   "metadata": {},
   "outputs": [
    {
     "data": {
      "text/plain": [
       "array(['B', 'C', 'A'], dtype=object)"
      ]
     },
     "execution_count": 12,
     "metadata": {},
     "output_type": "execute_result"
    }
   ],
   "source": [
    "# Unique Category of Retailer.\n",
    "\n",
    "df['Category of Retailer'].unique()"
   ]
  },
  {
   "cell_type": "code",
   "execution_count": 13,
   "metadata": {},
   "outputs": [],
   "source": [
    "# Group 'df' by 'Category of Retailer'\n",
    "\n",
    "df_group = df.groupby('Category of Retailer') "
   ]
  },
  {
   "cell_type": "markdown",
   "metadata": {},
   "source": [
    "## Cluster insights"
   ]
  },
  {
   "cell_type": "code",
   "execution_count": 14,
   "metadata": {},
   "outputs": [
    {
     "data": {
      "text/html": [
       "<div>\n",
       "<style scoped>\n",
       "    .dataframe tbody tr th:only-of-type {\n",
       "        vertical-align: middle;\n",
       "    }\n",
       "\n",
       "    .dataframe tbody tr th {\n",
       "        vertical-align: top;\n",
       "    }\n",
       "\n",
       "    .dataframe thead th {\n",
       "        text-align: right;\n",
       "    }\n",
       "</style>\n",
       "<table border=\"1\" class=\"dataframe\">\n",
       "  <thead>\n",
       "    <tr style=\"text-align: right;\">\n",
       "      <th></th>\n",
       "      <th>Number of  Retailers</th>\n",
       "    </tr>\n",
       "    <tr>\n",
       "      <th>Category of Retailer</th>\n",
       "      <th></th>\n",
       "    </tr>\n",
       "  </thead>\n",
       "  <tbody>\n",
       "    <tr>\n",
       "      <th>A</th>\n",
       "      <td>1</td>\n",
       "    </tr>\n",
       "    <tr>\n",
       "      <th>B</th>\n",
       "      <td>894</td>\n",
       "    </tr>\n",
       "    <tr>\n",
       "      <th>C</th>\n",
       "      <td>9043</td>\n",
       "    </tr>\n",
       "  </tbody>\n",
       "</table>\n",
       "</div>"
      ],
      "text/plain": [
       "                      Number of  Retailers\n",
       "Category of Retailer                      \n",
       "A                                        1\n",
       "B                                      894\n",
       "C                                     9043"
      ]
     },
     "execution_count": 14,
     "metadata": {},
     "output_type": "execute_result"
    }
   ],
   "source": [
    "Total_Sales_Count = df_group[['Retailer Name']].count()\n",
    "Total_Sales_Count.columns = ['Number of  Retailers']\n",
    "Total_Sales_Count"
   ]
  },
  {
   "cell_type": "code",
   "execution_count": 15,
   "metadata": {},
   "outputs": [
    {
     "data": {
      "text/html": [
       "<div>\n",
       "<style scoped>\n",
       "    .dataframe tbody tr th:only-of-type {\n",
       "        vertical-align: middle;\n",
       "    }\n",
       "\n",
       "    .dataframe tbody tr th {\n",
       "        vertical-align: top;\n",
       "    }\n",
       "\n",
       "    .dataframe thead th {\n",
       "        text-align: right;\n",
       "    }\n",
       "</style>\n",
       "<table border=\"1\" class=\"dataframe\">\n",
       "  <thead>\n",
       "    <tr style=\"text-align: right;\">\n",
       "      <th></th>\n",
       "      <th>Total Sales (Sum)</th>\n",
       "    </tr>\n",
       "    <tr>\n",
       "      <th>Category of Retailer</th>\n",
       "      <th></th>\n",
       "    </tr>\n",
       "  </thead>\n",
       "  <tbody>\n",
       "    <tr>\n",
       "      <th>A</th>\n",
       "      <td>7.618235e+06</td>\n",
       "    </tr>\n",
       "    <tr>\n",
       "      <th>B</th>\n",
       "      <td>7.144045e+07</td>\n",
       "    </tr>\n",
       "    <tr>\n",
       "      <th>C</th>\n",
       "      <td>7.510640e+07</td>\n",
       "    </tr>\n",
       "  </tbody>\n",
       "</table>\n",
       "</div>"
      ],
      "text/plain": [
       "                      Total Sales (Sum)\n",
       "Category of Retailer                   \n",
       "A                          7.618235e+06\n",
       "B                          7.144045e+07\n",
       "C                          7.510640e+07"
      ]
     },
     "execution_count": 15,
     "metadata": {},
     "output_type": "execute_result"
    }
   ],
   "source": [
    "Total_Sales_Sum = df_group[['Total Sales']].sum()\n",
    "Total_Sales_Sum.columns = ['Total Sales (Sum)']\n",
    "Total_Sales_Sum"
   ]
  },
  {
   "cell_type": "code",
   "execution_count": 16,
   "metadata": {},
   "outputs": [
    {
     "data": {
      "text/html": [
       "<div>\n",
       "<style scoped>\n",
       "    .dataframe tbody tr th:only-of-type {\n",
       "        vertical-align: middle;\n",
       "    }\n",
       "\n",
       "    .dataframe tbody tr th {\n",
       "        vertical-align: top;\n",
       "    }\n",
       "\n",
       "    .dataframe thead th {\n",
       "        text-align: right;\n",
       "    }\n",
       "</style>\n",
       "<table border=\"1\" class=\"dataframe\">\n",
       "  <thead>\n",
       "    <tr style=\"text-align: right;\">\n",
       "      <th></th>\n",
       "      <th>Total Sales (mean)</th>\n",
       "    </tr>\n",
       "    <tr>\n",
       "      <th>Category of Retailer</th>\n",
       "      <th></th>\n",
       "    </tr>\n",
       "  </thead>\n",
       "  <tbody>\n",
       "    <tr>\n",
       "      <th>A</th>\n",
       "      <td>7.618235e+06</td>\n",
       "    </tr>\n",
       "    <tr>\n",
       "      <th>B</th>\n",
       "      <td>7.991101e+04</td>\n",
       "    </tr>\n",
       "    <tr>\n",
       "      <th>C</th>\n",
       "      <td>8.305474e+03</td>\n",
       "    </tr>\n",
       "  </tbody>\n",
       "</table>\n",
       "</div>"
      ],
      "text/plain": [
       "                      Total Sales (mean)\n",
       "Category of Retailer                    \n",
       "A                           7.618235e+06\n",
       "B                           7.991101e+04\n",
       "C                           8.305474e+03"
      ]
     },
     "execution_count": 16,
     "metadata": {},
     "output_type": "execute_result"
    }
   ],
   "source": [
    "df_group[['Total Sales']].mean()\n",
    "Total_Sales_Mean = df_group[['Total Sales']].mean()\n",
    "Total_Sales_Mean.columns = ['Total Sales (mean)']\n",
    "Total_Sales_Mean"
   ]
  },
  {
   "cell_type": "code",
   "execution_count": 17,
   "metadata": {},
   "outputs": [
    {
     "data": {
      "text/plain": [
       "Text(0.5, 1.0, '% of  Retailers in each Category (Pie Plot)')"
      ]
     },
     "execution_count": 17,
     "metadata": {},
     "output_type": "execute_result"
    },
    {
     "data": {
      "image/png": "[encoded data removed]",
      "text/plain": [
       "<Figure size 432x288 with 1 Axes>"
      ]
     },
     "metadata": {},
     "output_type": "display_data"
    }
   ],
   "source": [
    "# Number of  Retailers - Pie Plot\n",
    "df['Category of Retailer'].value_counts().plot.pie(autopct=\"%.1f%%\")\n",
    "plt.title('% of  Retailers in each Category (Pie Plot)', fontsize = 20)"
   ]
  },
  {
   "cell_type": "code",
   "execution_count": 18,
   "metadata": {},
   "outputs": [
    {
     "data": {
      "text/plain": [
       "Text(0.5, 1.0, 'Number of  Retailers in each Category (Count Plot)')"
      ]
     },
     "execution_count": 18,
     "metadata": {},
     "output_type": "execute_result"
    },
    {
     "data": {
      "image/png": "[encoded data removed]",
      "text/plain": [
       "<Figure size 432x288 with 1 Axes>"
      ]
     },
     "metadata": {},
     "output_type": "display_data"
    }
   ],
   "source": [
    "# Number of  Retailers - Count Plot\n",
    "sns.countplot(x='Category of Retailer',data=df)\n",
    "plt.title('Number of  Retailers in each Category (Count Plot)', fontsize = 20)"
   ]
  },
  {
   "cell_type": "code",
   "execution_count": 19,
   "metadata": {},
   "outputs": [
    {
     "data": {
      "text/plain": [
       "<matplotlib.axes._subplots.AxesSubplot at 0x1ff99dd9250>"
      ]
     },
     "execution_count": 19,
     "metadata": {},
     "output_type": "execute_result"
    },
    {
     "data": {
      "image/png": "[encoded data removed]",
      "text/plain": [
       "<Figure size 864x576 with 2 Axes>"
      ]
     },
     "metadata": {},
     "output_type": "display_data"
    }
   ],
   "source": [
    "# Boxplot showing Total Sales of respective Category of Retailer.\n",
    "\n",
    "fig, axes = plt.subplots(1, 2, figsize=(12, 8))\n",
    "fig.suptitle('Total Sales of respective Category of Retailer (Boxplot)', fontsize = 20)\n",
    "\n",
    "sns.boxplot(ax=axes[0], x='Category of Retailer', y='Total Sales' ,data=df[df['Category of Retailer'] == 'A'])\n",
    "axes[0].get_yaxis().get_major_formatter().set_scientific(False)\n",
    "\n",
    "sns.boxplot(ax=axes[1], x='Category of Retailer', y='Total Sales' ,data=df[df['Category of Retailer'] != 'A'])"
   ]
  },
  {
   "cell_type": "markdown",
   "metadata": {},
   "source": [
    "##  Conclusion:"
   ]
  },
  {
   "cell_type": "markdown",
   "metadata": {},
   "source": [
    "Based on Boxplot showing Total Sales of respective Category of Retailer, we conclude that \n",
    "* Category A has highest sales, therefore they will place regular orders. \n",
    "* Category C has lowest sales, therefore they will place irregular orders.\n",
    "\n",
    "|Category of Retailer|  Frequency of Order  |Number of  Retailers|Average sales per Retailer (Rs.)|\n",
    "|---|---|---|---|\n",
    "|A|place regular orders|1|76,18,235.00|\n",
    "|B|place medium orders|894|79,911.01|\n",
    "|C|place irregular orders|9043|8,305.47|\n",
    "\n"
   ]
  },
  {
   "cell_type": "markdown",
   "metadata": {},
   "source": [
    "**Author:** Mohd. Sahil Nizamuddin Ansari\n",
    "\n",
    "Linkedin: https://www.linkedin.com/in/sahil-ansari-a36830115/\n",
    "\n",
    "GitHub: https://github.com/sahil-ansari-15\n",
    "\n",
    "Email: sahilansari1115@gmail.com\n"
   ]
  }
 ],
 "metadata": {
  "kernelspec": {
   "display_name": "Python 3",
   "language": "python",
   "name": "python3"
  },
  "language_info": {
   "codemirror_mode": {
    "name": "ipython",
    "version": 3
   },
   "file_extension": ".py",
   "mimetype": "text/x-python",
   "name": "python",
   "nbconvert_exporter": "python",
   "pygments_lexer": "ipython3",
   "version": "3.8.3"
  }
 },
 "nbformat": 4,
 "nbformat_minor": 4
}
